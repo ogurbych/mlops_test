{
 "cells": [
  {
   "cell_type": "code",
   "execution_count": 6,
   "id": "36678b83-cdb3-46a0-962f-1d6893eab28b",
   "metadata": {},
   "outputs": [
    {
     "data": {
      "application/vnd.jupyter.widget-view+json": {
       "model_id": "c8b0ae4c55b7477aa6b7f321ab66c9ca",
       "version_major": 2,
       "version_minor": 0
      },
      "text/plain": [
       "MetricVisualizer(layout=Layout(align_self='stretch', height='500px'))"
      ]
     },
     "metadata": {},
     "output_type": "display_data"
    }
   ],
   "source": [
    "import sys\n",
    "\n",
    "import numpy as np\n",
    "\n",
    "from catboost import CatBoostClassifier\n",
    "from catboost import Pool\n",
    "from catboost import cv\n",
    "\n",
    "from catboost.utils import eval_metric\n",
    "from sklearn.model_selection import train_test_split\n",
    "\n",
    "# label need to be 0 to num_class -1\n",
    "data = np.loadtxt('./dermatology.data', delimiter=',',\n",
    "        converters={33: lambda x:int(x == '?'), 34: lambda x:int(x) - 1})\n",
    "\n",
    "X = data[:, :33]\n",
    "Y = data[:, 34]\n",
    "\n",
    "X_train, X_test, Y_train, Y_test = train_test_split(X, Y)\n",
    "\n",
    "train_pool = Pool(X_train, Y_train)\n",
    "test_pool = Pool(X_test, Y_test)\n",
    "\n",
    "clf = CatBoostClassifier(learning_rate=0.1,\n",
    "                         custom_loss=['AUC', 'Accuracy'],\n",
    "                         iterations=1000)\n",
    "\n",
    "clf.fit(train_pool,\n",
    "        eval_set=test_pool,\n",
    "        metric_period=10,\n",
    "        plot=True,\n",
    "        verbose=50,\n",
    "        log_cout=open('log_cout.txt', 'w'),\n",
    "        log_cerr=open('log_cerr.txt', 'w'))\n",
    "\n",
    "clf.save_model(\"model.cbm\")"
   ]
  },
  {
   "cell_type": "code",
   "execution_count": null,
   "id": "caff4236-2ac0-4c8e-b4f3-70f055565db5",
   "metadata": {},
   "outputs": [],
   "source": []
  }
 ],
 "metadata": {
  "kernelspec": {
   "display_name": "Python 3 (ipykernel)",
   "language": "python",
   "name": "python3"
  },
  "language_info": {
   "codemirror_mode": {
    "name": "ipython",
    "version": 3
   },
   "file_extension": ".py",
   "mimetype": "text/x-python",
   "name": "python",
   "nbconvert_exporter": "python",
   "pygments_lexer": "ipython3",
   "version": "3.9.7"
  }
 },
 "nbformat": 4,
 "nbformat_minor": 5
}
